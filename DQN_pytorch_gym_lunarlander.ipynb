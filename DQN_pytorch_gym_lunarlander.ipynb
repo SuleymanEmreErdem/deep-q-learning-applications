{
 "cells": [
  {
   "cell_type": "code",
   "execution_count": null,
   "metadata": {},
   "outputs": [],
   "source": [
    "import torch\n",
    "import torch.nn as nn\n",
    "import torch.nn.functional as F\n",
    "import torch.optim as optim\n",
    "import numpy as np\n",
    "import gymnasium as gym\n",
    "import random\n",
    "from collections import deque"
   ]
  },
  {
   "cell_type": "code",
   "execution_count": null,
   "metadata": {},
   "outputs": [],
   "source": [
    "class DQN(nn.Module):\n",
    "    def __init__(self, n_obs, n_act):\n",
    "        super(DQN, self).__init__()\n",
    "        self.fc1 = nn.Linear(n_obs, 128)\n",
    "        self.fc2 = nn.Linear(128, 128)\n",
    "        self.fc3 = nn.Linear(128, n_act)\n",
    "\n",
    "    def forward(self, x):\n",
    "        x = F.relu(self.fc1(x))\n",
    "        x = F.relu(self.fc2(x))\n",
    "        return self.fc3(x)"
   ]
  },
  {
   "cell_type": "code",
   "execution_count": null,
   "metadata": {},
   "outputs": [],
   "source": [
    "memory = deque(maxlen=100000)\n",
    "\n",
    "env = gym.make(\"LunarLander-v2\", render_mode=\"rgb_array\")\n",
    "state, info = env.reset()\n",
    "n_obs, n_act = len(state), env.action_space.n\n",
    "\n",
    "dev = torch.device(\"cuda\" if torch.cuda.is_available() else \"cpu\")\n",
    "net = DQN(n_obs, n_act).to(dev)\n",
    "optimizer = optim.Adam(net.parameters(), lr=0.001)\n",
    "loss_f = nn.MSELoss()\n",
    "target_net = DQN(n_obs, n_act).to(dev)"
   ]
  },
  {
   "cell_type": "code",
   "execution_count": null,
   "metadata": {},
   "outputs": [],
   "source": [
    "gamma = 0.99 #discount rate\n",
    "epsilon = 1.0 #exploration rate\n",
    "eps_decay = 0.995\n",
    "eps_min = 0.01\n",
    "batch_size = 64 #batch size for training after every episode\n",
    "episodes = 10000\n",
    "total_reward = 0."
   ]
  },
  {
   "cell_type": "code",
   "execution_count": null,
   "metadata": {},
   "outputs": [],
   "source": [
    "def act_no_random(state):\n",
    "    act_val = net(torch.tensor(state, dtype=torch.float).to(dev))\n",
    "    return torch.argmax(act_val).item()\n",
    "\n",
    "def act(state):\n",
    "    if random.random() <= epsilon:\n",
    "        return env.action_space.sample()\n",
    "    act_val = net(torch.tensor(state, dtype=torch.float).to(dev))\n",
    "    return torch.argmax(act_val).item()\n",
    "\n",
    "def train(memory, batch_size, epsilon, eps_decay, gamma):\n",
    "    minibatch = random.sample(memory, batch_size)\n",
    "    for state, action, reward, next_state, done in minibatch:\n",
    "        next_state = torch.tensor(next_state, dtype=torch.float).to(dev)\n",
    "        state = torch.tensor(state, dtype=torch.float).to(dev)\n",
    "        target = reward\n",
    "        if not done:\n",
    "            target = reward + gamma * torch.max(target_net(next_state)).item()\n",
    "        target = float(target)\n",
    "        target_f = net(state)\n",
    "        target_f[action] = target\n",
    "        optimizer.zero_grad()\n",
    "        loss = loss_f(net(state), target_f)\n",
    "        loss.backward()\n",
    "        optimizer.step()\n",
    "    if epsilon > eps_min:\n",
    "        return epsilon * eps_decay\n",
    "    else:\n",
    "        return eps_min"
   ]
  },
  {
   "cell_type": "code",
   "execution_count": null,
   "metadata": {},
   "outputs": [],
   "source": [
    "for e in range(1, episodes):\n",
    "    state = env.reset()\n",
    "    state = np.array(state[0])\n",
    "    score = 0.\n",
    "    done = False\n",
    "    count = 0\n",
    "    while not done:\n",
    "        action = act(state)\n",
    "        next_state, reward, done, _, _ = env.step(action)\n",
    "        if count > 1000:\n",
    "            done = True\n",
    "        score += float(reward)\n",
    "        memory.append((state, action, reward, next_state, done))\n",
    "        state = next_state\n",
    "        count += 1\n",
    "        if len(memory) > batch_size:\n",
    "            epsilon = train(memory, batch_size, epsilon, eps_decay, gamma)\n",
    "    if e % 10 == 0:\n",
    "        print(\"Episode:\", e, \"Mean Score:\", total_reward / 10)\n",
    "        total_reward = 0.\n",
    "    target_net.load_state_dict(net.state_dict())\n",
    "    total_reward += score"
   ]
  },
  {
   "cell_type": "code",
   "execution_count": null,
   "metadata": {},
   "outputs": [],
   "source": [
    "env = gym.make(\"LunarLander-v2\", render_mode=\"human\")\n",
    "\n",
    "while True:\n",
    "    state = env.reset()\n",
    "    state = np.array(state[0])\n",
    "    score = 0.\n",
    "    count = 0\n",
    "    done = False\n",
    "    while not done and count < 400:\n",
    "        action = act_no_random(state)\n",
    "        next_state, reward, done, _, _ = env.step(action)\n",
    "        score += float(reward)\n",
    "        state = next_state\n",
    "        count += 1\n",
    "    print(\"Score:\", score)"
   ]
  },
  {
   "cell_type": "code",
   "execution_count": null,
   "metadata": {},
   "outputs": [],
   "source": [
    "env = gym.make(\"LunarLander-v2\", render_mode=\"rgb_array\")"
   ]
  },
  {
   "cell_type": "code",
   "execution_count": null,
   "metadata": {},
   "outputs": [],
   "source": []
  }
 ],
 "metadata": {
  "kernelspec": {
   "display_name": "RL_gym",
   "language": "python",
   "name": "python3"
  },
  "language_info": {
   "codemirror_mode": {
    "name": "ipython",
    "version": 3
   },
   "file_extension": ".py",
   "mimetype": "text/x-python",
   "name": "python",
   "nbconvert_exporter": "python",
   "pygments_lexer": "ipython3",
   "version": "3.11.6"
  }
 },
 "nbformat": 4,
 "nbformat_minor": 2
}
