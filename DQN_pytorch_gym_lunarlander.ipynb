{
 "cells": [
  {
   "cell_type": "code",
   "execution_count": null,
   "metadata": {},
   "outputs": [],
   "source": [
    "import torch\n",
    "import torch.nn as nn\n",
    "import torch.nn.functional as F\n",
    "import torch.optim as optim\n",
    "import numpy as np\n",
    "import gymnasium as gym\n",
    "import random\n",
    "from collections import deque, namedtuple"
   ]
  },
  {
   "cell_type": "markdown",
   "metadata": {},
   "source": [
    "#### Define the neural network"
   ]
  },
  {
   "cell_type": "code",
   "execution_count": null,
   "metadata": {},
   "outputs": [],
   "source": [
    "class DQN(nn.Module):\n",
    "    def __init__(self, input_size, output_size):\n",
    "        super(DQN, self).__init__()\n",
    "        self.fc1 = nn.Linear(input_size, 128)\n",
    "        self.fc2 = nn.Linear(128, 128)\n",
    "        self.fc3 = nn.Linear(128, output_size)\n",
    "\n",
    "    def forward(self, x):\n",
    "        x = F.relu(self.fc1(x))\n",
    "        x = F.relu(self.fc2(x))\n",
    "        x = self.fc3(x)\n",
    "        return x"
   ]
  },
  {
   "cell_type": "markdown",
   "metadata": {},
   "source": [
    "#### Define the Agent class\n",
    "\n",
    "Includes:  \n",
    "    -Hyperparameters  \n",
    "    -Training, action selection and memory functions  \n",
    "    -Policy network and target network to predict q values"
   ]
  },
  {
   "cell_type": "code",
   "execution_count": null,
   "metadata": {},
   "outputs": [],
   "source": [
    "Transition = namedtuple('Transition', ('state', 'action', 'next_state', 'reward', 'done'))\n",
    "\n",
    "class Agent:\n",
    "    def __init__(self, n_obs, n_act, lr=0.0001, gamma=0.99, epsilon=1.0, epsilon_decay=0.995, epsilon_min=0.01, batch_size=32, max_mem=100000):\n",
    "        self.device = torch.device(\"cuda\" if torch.cuda.is_available() else \"cpu\")\n",
    "        self.n_obs = n_obs\n",
    "        self.n_act = n_act\n",
    "        self.gamma = gamma\n",
    "        self.epsilon = epsilon\n",
    "        self.epsilon_decay = epsilon_decay\n",
    "        self.epsilon_min = epsilon_min\n",
    "        self.memory = deque(maxlen=max_mem)\n",
    "        self.batch_size = batch_size\n",
    "        self.policy_net = DQN(n_obs, n_act).to(self.device)\n",
    "        self.target_net = DQN(n_obs, n_act).to(self.device)\n",
    "        self.target_net.load_state_dict(self.policy_net.state_dict())\n",
    "        self.target_net.eval()\n",
    "        self.optimizer = optim.Adam(self.policy_net.parameters(), lr=lr)\n",
    "        self.loss_fn = nn.SmoothL1Loss()\n",
    "\n",
    "    def act(self, state):\n",
    "        if random.random() < self.epsilon:\n",
    "            return torch.tensor([[random.randrange(self.n_act)]], device=self.device)\n",
    "        else:\n",
    "            with torch.no_grad():\n",
    "                return self.policy_net(state).max(1)[1].view(1, 1)\n",
    "            \n",
    "    def act_eval(self, state):\n",
    "        with torch.no_grad():\n",
    "            return self.policy_net(state).max(1)[1].view(1, 1)\n",
    "            \n",
    "    def store(self, transition):\n",
    "        self.memory.append(transition)\n",
    "\n",
    "    def train(self):\n",
    "        if len(self.memory) < self.batch_size:\n",
    "            return\n",
    "        \n",
    "        transitions = random.sample(self.memory, self.batch_size)\n",
    "        batch = Transition(*zip(*transitions))\n",
    "\n",
    "        non_final_mask = torch.tensor(tuple(map(lambda s: s is not None, batch.next_state)), device=self.device, dtype=torch.bool)\n",
    "        non_final_next_states = torch.cat([s for s in batch.next_state if s is not None])\n",
    "\n",
    "        state_batch = torch.cat(batch.state)\n",
    "        action_batch = torch.cat(batch.action)\n",
    "        reward_batch = torch.cat(batch.reward)\n",
    "\n",
    "        state_action_values = self.policy_net(state_batch).gather(1, action_batch)\n",
    "\n",
    "        next_state_values = torch.zeros(self.batch_size, device=self.device)\n",
    "        next_state_values[non_final_mask] = self.target_net(non_final_next_states).max(1)[0].detach()\n",
    "\n",
    "        expected_state_action_values = (next_state_values * self.gamma) + reward_batch\n",
    "\n",
    "        loss = self.loss_fn(state_action_values, expected_state_action_values.unsqueeze(1))\n",
    "\n",
    "        self.optimizer.zero_grad()\n",
    "        loss.backward()\n",
    "        self.optimizer.step()\n",
    "\n",
    "    def update_target(self):\n",
    "        self.target_net.load_state_dict(self.policy_net.state_dict())\n",
    "\n",
    "    def update_epsilon(self):\n",
    "        self.epsilon = max(self.epsilon * self.epsilon_decay, self.epsilon_min)"
   ]
  },
  {
   "cell_type": "markdown",
   "metadata": {},
   "source": [
    "#### Create environment and Agent objects"
   ]
  },
  {
   "cell_type": "code",
   "execution_count": null,
   "metadata": {},
   "outputs": [],
   "source": [
    "env = gym.make('LunarLander-v2', render_mode='rgb_array')\n",
    "n_obs, n_act = env.observation_space.shape[0], env.action_space.n\n",
    "agent = Agent(n_obs, n_act)\n",
    "\n",
    "episodes = 1500\n",
    "max_steps = 300\n",
    "total_reward = 0."
   ]
  },
  {
   "cell_type": "markdown",
   "metadata": {},
   "source": [
    "#### Training loop"
   ]
  },
  {
   "cell_type": "code",
   "execution_count": null,
   "metadata": {},
   "outputs": [],
   "source": [
    "for e in range(1, episodes+1):\n",
    "    state = np.array(env.reset()[0])\n",
    "    state = torch.tensor([state], device=agent.device, dtype=torch.float32)\n",
    "    score = 0.\n",
    "    for s in range(max_steps):\n",
    "        action = agent.act(state)\n",
    "        next_state, reward, done, _, _ = env.step(action.item())\n",
    "        next_state = torch.tensor([next_state], device=agent.device, dtype=torch.float32)\n",
    "        reward = torch.tensor([reward], device=agent.device, dtype=torch.float32)\n",
    "        agent.store(Transition(state, action, next_state, reward, done))\n",
    "        score += reward.item()\n",
    "        state = next_state\n",
    "        agent.train()\n",
    "        agent.update_epsilon()\n",
    "        if done:\n",
    "            break\n",
    "    total_reward += score\n",
    "    agent.update_target()\n",
    "    if e % 100 == 0:\n",
    "        print(f'Episode {e}, Reward: {total_reward / 100}')\n",
    "        total_reward = 0."
   ]
  },
  {
   "cell_type": "markdown",
   "metadata": {},
   "source": [
    "#### Evaluation loop"
   ]
  },
  {
   "cell_type": "code",
   "execution_count": null,
   "metadata": {},
   "outputs": [],
   "source": [
    "env = gym.make('LunarLander-v2', render_mode='human')\n",
    "\n",
    "while True:\n",
    "    state = np.array(env.reset()[0])\n",
    "    state = torch.tensor([state], device=agent.device, dtype=torch.float32)\n",
    "    score = 0.\n",
    "    for s in range(400):\n",
    "        action = agent.act_eval(state)\n",
    "        next_state, reward, done, _, _ = env.step(action.item())\n",
    "        state = torch.tensor([next_state], device=agent.device, dtype=torch.float32)\n",
    "        score += float(reward)\n",
    "        if done:\n",
    "            break\n",
    "    print(f'Score: {score}')"
   ]
  },
  {
   "cell_type": "markdown",
   "metadata": {},
   "source": [
    "#### If you want to continue training after evaluation, firstly you must run this cell"
   ]
  },
  {
   "cell_type": "code",
   "execution_count": null,
   "metadata": {},
   "outputs": [],
   "source": [
    "env = gym.make('LunarLander-v2', render_mode='rgb_array')"
   ]
  }
 ],
 "metadata": {
  "kernelspec": {
   "display_name": "RL_gym",
   "language": "python",
   "name": "python3"
  },
  "language_info": {
   "codemirror_mode": {
    "name": "ipython",
    "version": 3
   },
   "file_extension": ".py",
   "mimetype": "text/x-python",
   "name": "python",
   "nbconvert_exporter": "python",
   "pygments_lexer": "ipython3",
   "version": "3.11.6"
  }
 },
 "nbformat": 4,
 "nbformat_minor": 2
}
