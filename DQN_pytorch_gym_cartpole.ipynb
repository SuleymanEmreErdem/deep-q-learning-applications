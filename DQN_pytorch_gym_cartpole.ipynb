{
 "cells": [
  {
   "cell_type": "code",
   "execution_count": null,
   "metadata": {},
   "outputs": [],
   "source": [
    "import torch\n",
    "import torch.nn as nn\n",
    "import torch.nn.functional as F\n",
    "import torch.optim as optim\n",
    "import numpy as np\n",
    "import gymnasium as gym\n",
    "import random\n",
    "from collections import deque"
   ]
  },
  {
   "cell_type": "markdown",
   "metadata": {},
   "source": [
    "#### Define the neural network"
   ]
  },
  {
   "cell_type": "code",
   "execution_count": null,
   "metadata": {},
   "outputs": [],
   "source": [
    "class DQN(nn.Module):\n",
    "    def __init__(self, n_obs, n_act):\n",
    "        super(DQN, self).__init__()\n",
    "        self.l1 = nn.Linear(n_obs, 128)\n",
    "        self.l2 = nn.Linear(128, 128)\n",
    "        self.l3 = nn.Linear(128, n_act)\n",
    "\n",
    "    def forward(self, x):\n",
    "        out = F.relu(self.l1(x))\n",
    "        out = F.relu(self.l2(out))\n",
    "        return self.l3(out)"
   ]
  },
  {
   "cell_type": "markdown",
   "metadata": {},
   "source": [
    "#### Initialize memory, environment and neural network"
   ]
  },
  {
   "cell_type": "code",
   "execution_count": null,
   "metadata": {},
   "outputs": [],
   "source": [
    "memory = deque(maxlen=2000) #memory for storing state, action, reward, next state and terminal values for every state\n",
    "\n",
    "env = gym.make(\"CartPole-v1\", render_mode=\"rgb_array\")\n",
    "state, info = env.reset()\n",
    "n_obs, n_act = len(state), env.action_space.n\n",
    "\n",
    "net = DQN(n_obs, n_act) #initialize the Deep Q-Network\n",
    "optimizer = optim.Adam(net.parameters(), lr=0.001)\n",
    "device = torch.device(\"cpu\")"
   ]
  },
  {
   "cell_type": "markdown",
   "metadata": {},
   "source": [
    "#### Define the parameters"
   ]
  },
  {
   "cell_type": "code",
   "execution_count": null,
   "metadata": {},
   "outputs": [],
   "source": [
    "gamma = 0.95 #discount rate\n",
    "epsilon = 1.0 #exploration rate\n",
    "eps_decay = 0.996\n",
    "eps_min = 0.01\n",
    "batch_size = 128 #batch size for training after every episode\n",
    "episodes = 10000\n",
    "max_mem_size = 2000\n",
    "total_reward = 0."
   ]
  },
  {
   "cell_type": "markdown",
   "metadata": {},
   "source": [
    "#### Define prediction and training functions"
   ]
  },
  {
   "cell_type": "code",
   "execution_count": null,
   "metadata": {},
   "outputs": [],
   "source": [
    "def act(state):\n",
    "    if random.random() <= epsilon:\n",
    "        return env.action_space.sample()\n",
    "    act_val = net(torch.tensor(state, dtype=torch.float))\n",
    "    return torch.argmax(act_val).item()\n",
    "\n",
    "def train(memory, batch_size, epsilon, eps_decay, gamma):\n",
    "    minibatch = random.sample(memory, batch_size)\n",
    "    for state, action, reward, next_state, done in minibatch:\n",
    "        target = reward\n",
    "        if not done:\n",
    "            target = (reward + gamma * torch.max(net(torch.tensor(next_state, dtype=torch.float))).item())\n",
    "        target_f = net(torch.tensor(state, dtype=torch.float))\n",
    "        target_f[action] = target\n",
    "        optimizer.zero_grad()\n",
    "        loss = F.mse_loss(target_f, net(torch.tensor(state, dtype=torch.float)))\n",
    "        loss.backward()\n",
    "        optimizer.step()\n",
    "    return epsilon * eps_decay\n",
    "        "
   ]
  },
  {
   "cell_type": "markdown",
   "metadata": {},
   "source": [
    "#### Execute the loop"
   ]
  },
  {
   "cell_type": "code",
   "execution_count": null,
   "metadata": {},
   "outputs": [],
   "source": [
    "for e in range(1, episodes):\n",
    "    state = env.reset()\n",
    "    state = np.array(state[0])\n",
    "    score = 0.\n",
    "    done = False\n",
    "    while not done:\n",
    "        action = act(state)\n",
    "        next_state, reward, done, _, _ = env.step(action)\n",
    "        reward = reward if not done else -10\n",
    "        score += float(reward)\n",
    "        memory.append((state, action, reward, next_state, done))\n",
    "        state = next_state\n",
    "    if e % 100 == 0:\n",
    "        print(\"Episode:\", e, \"Mean Score:\", total_reward / e)\n",
    "    if len(memory) > batch_size:\n",
    "        epsilon = train(memory, batch_size, epsilon, eps_decay, gamma)\n",
    "    total_reward += score"
   ]
  },
  {
   "cell_type": "markdown",
   "metadata": {},
   "source": [
    "#### Evaluate the model"
   ]
  },
  {
   "cell_type": "code",
   "execution_count": null,
   "metadata": {},
   "outputs": [],
   "source": [
    "env = gym.make(\"CartPole-v1\", render_mode=\"human\")\n",
    "\n",
    "while True:\n",
    "    state = env.reset()\n",
    "    state = np.array(state[0])\n",
    "    score = 0.\n",
    "    done = False\n",
    "    while not done:\n",
    "        action = act(state)\n",
    "        next_state, reward, done, _, _ = env.step(action)\n",
    "        reward = reward if not done else -10\n",
    "        score += float(reward)\n",
    "        state = next_state\n",
    "    print(\"Score:\", score)"
   ]
  },
  {
   "cell_type": "code",
   "execution_count": null,
   "metadata": {},
   "outputs": [],
   "source": []
  }
 ],
 "metadata": {
  "kernelspec": {
   "display_name": "Python 3",
   "language": "python",
   "name": "python3"
  },
  "language_info": {
   "codemirror_mode": {
    "name": "ipython",
    "version": 3
   },
   "file_extension": ".py",
   "mimetype": "text/x-python",
   "name": "python",
   "nbconvert_exporter": "python",
   "pygments_lexer": "ipython3",
   "version": "3.11.8"
  }
 },
 "nbformat": 4,
 "nbformat_minor": 2
}
