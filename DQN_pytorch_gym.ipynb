{
 "cells": [
  {
   "cell_type": "code",
   "execution_count": null,
   "metadata": {},
   "outputs": [],
   "source": [
    "import torch\n",
    "import torch.nn as nn\n",
    "import torch.nn.functional as F\n",
    "import torch.optim as optim\n",
    "import numpy as np\n",
    "import gymnasium as gym"
   ]
  },
  {
   "cell_type": "markdown",
   "metadata": {},
   "source": [
    "#### Define the neural network"
   ]
  },
  {
   "cell_type": "code",
   "execution_count": null,
   "metadata": {},
   "outputs": [],
   "source": [
    "class DQN(nn.Module):\n",
    "    def __init__(self, n_obs, n_act):\n",
    "        super(DQN, self).__init__()\n",
    "        self.l1 = nn.Linear(n_obs, 128)\n",
    "        self.l2 = nn.Linear(128, 128)\n",
    "        self.l3 = nn.Linear(128, n_act)\n",
    "\n",
    "    def forward(self, x):\n",
    "        out = F.relu(self.l1(x))\n",
    "        out = F.relu(self.l2(out))\n",
    "        return self.l3(out)"
   ]
  },
  {
   "cell_type": "markdown",
   "metadata": {},
   "source": [
    "#### Initialize memory, environment and neural network"
   ]
  },
  {
   "cell_type": "code",
   "execution_count": null,
   "metadata": {},
   "outputs": [],
   "source": [
    "memory = [] #memory for storing state, action, reward, next state and terminal values for every state\n",
    "\n",
    "env = gym.make(\"CartPole-v1\", render_mode=\"human\")\n",
    "state, info = env.reset()\n",
    "n_obs, n_act = len(state), env.action_space.n\n",
    "\n",
    "net = DQN(n_obs, n_act) #initialize the Deep Q-Network\n",
    "loss = nn.MSELoss()\n",
    "optimizer = optim.Adam(net.parameters(), lr=0.001)"
   ]
  },
  {
   "cell_type": "markdown",
   "metadata": {},
   "source": [
    "#### Define the parameters"
   ]
  },
  {
   "cell_type": "code",
   "execution_count": null,
   "metadata": {},
   "outputs": [],
   "source": [
    "gamma = 0.95 #discount rate\n",
    "epsilon = 1.0 #exploration rate\n",
    "eps_decay = 0.995 \n",
    "batch_size = 128 #batch size for training after every episode\n",
    "episodes = 1000\n",
    "max_mem_size = 10000"
   ]
  },
  {
   "cell_type": "markdown",
   "metadata": {},
   "source": [
    "#### Define prediction and training functions"
   ]
  },
  {
   "cell_type": "code",
   "execution_count": null,
   "metadata": {},
   "outputs": [],
   "source": [
    "def act(epsilon, state, episode):\n",
    "    state = torch.from_numpy(state)\n",
    "    if np.random.random() < epsilon and episode < 500:\n",
    "        return env.action_space.sample()\n",
    "    act_vals = net(state)\n",
    "    return torch.argmax(act_vals).cpu().detach().numpy()\n",
    "\n",
    "def replay(memory, batch_size, epsilon, eps_decay):\n",
    "    indices = np.random.randint(len(memory), size=batch_size)\n",
    "    for ind in indices:\n",
    "        state, action, reward, next_state, done = memory[ind]\n",
    "        target = reward\n",
    "        if not done:\n",
    "            target = (reward + gamma * torch.argmax(net(next_state)))\n",
    "        target_f = net(state)\n",
    "        target_f[action] = target\n",
    "        optimizer.zero_grad()\n",
    "        out = net(state)\n",
    "        l = loss(out, target_f)\n",
    "        l.backward()\n",
    "        optimizer.step()\n",
    "    epsilon *= eps_decay\n",
    "    return epsilon"
   ]
  },
  {
   "cell_type": "markdown",
   "metadata": {},
   "source": [
    "#### Execute the loop"
   ]
  },
  {
   "cell_type": "code",
   "execution_count": null,
   "metadata": {},
   "outputs": [],
   "source": [
    "for i in range(episodes):\n",
    "    state, info = env.reset()\n",
    "    done = False\n",
    "    score = 0\n",
    "    while not done:\n",
    "        action = act(epsilon, state, i)\n",
    "        next_state, reward, done, _, _ = env.step(action)\n",
    "        score += float(reward)\n",
    "        reward = reward if not done else -10\n",
    "        memory.append((torch.from_numpy(state), action, reward, torch.from_numpy(next_state), done))\n",
    "        if len(memory) >= max_mem_size:\n",
    "            memory.pop(0)\n",
    "        state = next_state\n",
    "    print(\"Episode:\", i, \" Score:\", score)\n",
    "    if len(memory) > batch_size:\n",
    "        epsilon = replay(memory, batch_size, epsilon, eps_decay)"
   ]
  },
  {
   "cell_type": "code",
   "execution_count": null,
   "metadata": {},
   "outputs": [],
   "source": [
    "env.close()"
   ]
  },
  {
   "cell_type": "code",
   "execution_count": null,
   "metadata": {},
   "outputs": [],
   "source": []
  }
 ],
 "metadata": {
  "kernelspec": {
   "display_name": "Python 3",
   "language": "python",
   "name": "python3"
  },
  "language_info": {
   "codemirror_mode": {
    "name": "ipython",
    "version": 3
   },
   "file_extension": ".py",
   "mimetype": "text/x-python",
   "name": "python",
   "nbconvert_exporter": "python",
   "pygments_lexer": "ipython3",
   "version": "3.11.8"
  }
 },
 "nbformat": 4,
 "nbformat_minor": 2
}
